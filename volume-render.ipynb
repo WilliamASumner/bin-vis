{
 "cells": [
  {
   "cell_type": "code",
   "execution_count": 8,
   "id": "ec55b16f",
   "metadata": {},
   "outputs": [],
   "source": [
    "from vis import *\n",
    "import ipyvolume"
   ]
  },
  {
   "cell_type": "code",
   "execution_count": 16,
   "id": "70dd30e6",
   "metadata": {},
   "outputs": [],
   "source": [
    "coords = genCoords(getFileData(\"/Users/willsumner/Desktop/Graphics-Files/Blend-Files/Iceberg.blend\"),3)\n",
    "grid = genNdGrid(coords,3) + 1\n",
    "logGrid = np.log(grid)\n",
    "#ipyvolume.quickvolshow(logGrid,lighting=True, level = [0.1,0.15],opacity=0.2)"
   ]
  },
  {
   "cell_type": "code",
   "execution_count": null,
   "id": "c8e8ea74",
   "metadata": {
    "scrolled": false
   },
   "outputs": [],
   "source": []
  },
  {
   "cell_type": "code",
   "execution_count": null,
   "id": "6a9f7d39",
   "metadata": {},
   "outputs": [],
   "source": []
  },
  {
   "cell_type": "code",
   "execution_count": 105,
   "id": "dbc2ecdf",
   "metadata": {},
   "outputs": [],
   "source": []
  },
  {
   "cell_type": "code",
   "execution_count": null,
   "id": "9342a42a",
   "metadata": {},
   "outputs": [],
   "source": []
  },
  {
   "cell_type": "code",
   "execution_count": null,
   "id": "2721f71e",
   "metadata": {},
   "outputs": [],
   "source": []
  },
  {
   "cell_type": "code",
   "execution_count": null,
   "id": "b79d9cf4",
   "metadata": {},
   "outputs": [],
   "source": []
  },
  {
   "cell_type": "code",
   "execution_count": null,
   "id": "cc74677c",
   "metadata": {},
   "outputs": [],
   "source": []
  },
  {
   "cell_type": "code",
   "execution_count": null,
   "id": "76bd1a55",
   "metadata": {},
   "outputs": [],
   "source": []
  },
  {
   "cell_type": "code",
   "execution_count": null,
   "id": "8ff1e616",
   "metadata": {},
   "outputs": [],
   "source": []
  },
  {
   "cell_type": "code",
   "execution_count": null,
   "id": "6c89fb9c",
   "metadata": {},
   "outputs": [],
   "source": []
  }
 ],
 "metadata": {
  "kernelspec": {
   "display_name": "Python 3 (ipykernel)",
   "language": "python",
   "name": "python3"
  },
  "language_info": {
   "codemirror_mode": {
    "name": "ipython",
    "version": 3
   },
   "file_extension": ".py",
   "mimetype": "text/x-python",
   "name": "python",
   "nbconvert_exporter": "python",
   "pygments_lexer": "ipython3",
   "version": "3.9.10"
  }
 },
 "nbformat": 4,
 "nbformat_minor": 5
}
