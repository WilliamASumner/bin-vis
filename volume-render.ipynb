{
 "cells": [
  {
   "cell_type": "code",
   "execution_count": 18,
   "id": "ec55b16f",
   "metadata": {},
   "outputs": [],
   "source": [
    "from vis import *\n",
    "import ipyvolume"
   ]
  },
  {
   "cell_type": "code",
   "execution_count": 19,
   "id": "3a4da57c",
   "metadata": {},
   "outputs": [],
   "source": [
    "filename = \"/usr/bin/java\" # check that this exists on your system"
   ]
  },
  {
   "cell_type": "code",
   "execution_count": 22,
   "id": "70dd30e6",
   "metadata": {},
   "outputs": [
    {
     "data": {
      "application/vnd.jupyter.widget-view+json": {
       "model_id": "4505fc938e2348df9bbeb452508c1691",
       "version_major": 2,
       "version_minor": 0
      },
      "text/plain": [
       "VBox(children=(VBox(children=(HBox(children=(Label(value='levels:'), FloatSlider(value=0.1, max=1.0, step=0.00…"
      ]
     },
     "metadata": {},
     "output_type": "display_data"
    }
   ],
   "source": [
    "coords = genCoords(getFileData(filename),3)\n",
    "grid = genNdGrid(coords,3) + 1\n",
    "logGrid = np.log(grid)\n",
    "ipyvolume.quickvolshow(logGrid,lighting=True, level = [0.1,0.2],opacity=[0.2,0.05])"
   ]
  }
 ],
 "metadata": {
  "kernelspec": {
   "display_name": "Python 3 (ipykernel)",
   "language": "python",
   "name": "python3"
  },
  "language_info": {
   "codemirror_mode": {
    "name": "ipython",
    "version": 3
   },
   "file_extension": ".py",
   "mimetype": "text/x-python",
   "name": "python",
   "nbconvert_exporter": "python",
   "pygments_lexer": "ipython3",
   "version": "3.9.10"
  }
 },
 "nbformat": 4,
 "nbformat_minor": 5
}
